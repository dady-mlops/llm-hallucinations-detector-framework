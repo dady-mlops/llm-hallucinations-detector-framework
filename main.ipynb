{
 "cells": [
  {
   "cell_type": "markdown",
   "metadata": {},
   "source": [
    "### Load Stanford Question Answering Dataset\n",
    "\n",
    "https://www.kaggle.com/datasets/stanfordu/stanford-question-answering-dataset"
   ]
  },
  {
   "cell_type": "code",
   "execution_count": 3,
   "metadata": {},
   "outputs": [
    {
     "name": "stdout",
     "output_type": "stream",
     "text": [
      "QuestionEntity(question='which is the most common use of opt-in e-mail marketing', long_answers='<P> A common example of permission marketing is a newsletter sent to an advertising firm 's customers . Such newsletters inform customers of upcoming events or promotions , or new products . In this type of advertising , a company that wants to send a newsletter to their customers may ask them at the point of purchase if they would like to receive the newsletter . </P>', short_answers='a newsletter sent to an advertising firm 's customers')\n",
      "QuestionEntity(question='how i.met your mother who is the mother', long_answers='<P> Tracy McConnell , better known as `` The Mother '' , is the title character from the CBS television sitcom How I Met Your Mother . The show , narrated by Future Ted , tells the story of how Ted Mosby met The Mother . Tracy McConnell appears in 8 episodes from `` Lucky Penny '' to `` The Time Travelers '' as an unseen character ; she was first seen fully in `` Something New '' and was promoted to a main character in season 9 . The Mother is played by Cristin Milioti . </P>', short_answers='Tracy McConnell')\n",
      "QuestionEntity(question='what type of fertilisation takes place in humans', long_answers='<P> The process of fertilization involves a sperm fusing with an ovum . The most common sequence begins with ejaculation during copulation , follows with ovulation , and finishes with fertilization . Various exceptions to this sequence are possible , including artificial insemination , in vitro fertilization , external ejaculation without copulation , or copulation shortly after ovulation . Upon encountering the secondary oocyte , the acrosome of the sperm produces enzymes which allow it to burrow through the outer jelly coat of the egg . The sperm plasma then fuses with the egg 's plasma membrane , the sperm head disconnects from its flagellum and the egg travels down the Fallopian tube to reach the uterus . </P>', short_answers='')\n",
      "QuestionEntity(question='who had the most wins in the nfl', long_answers='<P> Active quarterback Tom Brady holds the records for most wins with 220 , most regular season wins with 195 , and most postseason wins with 25 , as of Week 16 of the 2017 NFL season . Having played the entirety of his career with the New England Patriots , each of Brady 's win records also apply to wins with a single team . </P>', short_answers='Tom Brady')\n",
      "QuestionEntity(question='what happened to the lost settlement of roanoke', long_answers='', short_answers='')\n",
      "QuestionEntity(question='what are the different regions of africa and how do they differ', long_answers='', short_answers='')\n",
      "QuestionEntity(question='who played mantis guardians of the galaxy 2', long_answers='<P> Pom Klementieff ( born 3 May 1986 ) is a French actress . She was trained at the Cours Florent drama school in Paris and has appeared in such films as Loup ( 2009 ) , Sleepless Night ( 2011 ) and Hacker 's Game ( 2015 ) . She plays the role of Mantis in the film Guardians of the Galaxy Vol. 2 ( 2017 ) and will appear in the same role in the film Avengers : Infinity War ( 2018 ) . </P>', short_answers='Pom Klementieff')\n",
      "QuestionEntity(question='who did the voice of the magician in frosty the snowman', long_answers='', short_answers='')\n",
      "QuestionEntity(question='what indian tribe did the acadians form friendships and alliances with', long_answers='<P> The survival of the Acadian settlements was based on successful cooperation with the Indigenous peoples of the region . In the early years of Acadian settlement , this included a small number of recorded marriages between Acadian settlers and Indigenous women . Some records have survived showing marriages between Acadian settlers and Indigenous women in formal Roman Catholic rites , for example , the marriage of Charles La Tour to a Mi'kmaw woman in 1626 . There were also reported instances of Acadian settlers marrying Indigenous spouses according to Mi'kmaq rites , and subsequently living in Mi'kmaq communities . Many settlers also brought French wives with them to Acadia , such as La Tour 's second wife , Françoise - Marie Jacquelin , who joined him in Acadia in 1640 . </P>', short_answers='')\n",
      "QuestionEntity(question='what is considered the outer banks in north carolina', long_answers='', short_answers='')\n"
     ]
    }
   ],
   "source": [
    "from src.services import natural_questions_parser\n",
    "\n",
    "parser = natural_questions_parser.NaturalQuestionsParser(\"./data/Natural-Questions-Base.csv\")\n",
    "qa_entities = parser.parse_entities(n=10)\n",
    "for entity in qa_entities:    \n",
    "    print(entity)"
   ]
  }
 ],
 "metadata": {
  "kernelspec": {
   "display_name": "venv",
   "language": "python",
   "name": "python3"
  },
  "language_info": {
   "codemirror_mode": {
    "name": "ipython",
    "version": 3
   },
   "file_extension": ".py",
   "mimetype": "text/x-python",
   "name": "python",
   "nbconvert_exporter": "python",
   "pygments_lexer": "ipython3",
   "version": "3.12.5"
  }
 },
 "nbformat": 4,
 "nbformat_minor": 2
}
